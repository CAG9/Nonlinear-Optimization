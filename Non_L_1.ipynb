{
 "cells": [
  {
   "cell_type": "code",
   "execution_count": 12,
   "metadata": {},
   "outputs": [],
   "source": [
    "import math\n",
    "import matplotlib.pyplot as plt\n",
    "import numpy as np\n",
    "import pandas as pd"
   ]
  },
  {
   "cell_type": "markdown",
   "metadata": {},
   "source": [
    "## Exhaustive search\n",
    "## Búsqueda exhaustiva"
   ]
  },
  {
   "cell_type": "code",
   "execution_count": 38,
   "metadata": {},
   "outputs": [],
   "source": [
    "def f(x):\n",
    "    if x ==0:\n",
    "        return 0\n",
    "    else:\n",
    "        return x**2 + (54/x)\n",
    "    "
   ]
  },
  {
   "cell_type": "code",
   "execution_count": 39,
   "metadata": {},
   "outputs": [],
   "source": [
    "def Exhaustive_Search(a1,b1,n1):\n",
    "    increm = (b1-a1)/n1\n",
    "    #X\n",
    "    x1 = a1\n",
    "    x2 = x1 + increm \n",
    "    x3 = x2 + increm\n",
    "\n",
    "\n",
    "    count=1\n",
    "    while(x3<=b1):\n",
    "        count +=1\n",
    "        if(x1==0 or x2==0 or x3==0):\n",
    "            x1 = x2\n",
    "            x2 = x3\n",
    "            x3 = x2 + increm\n",
    "\n",
    "        if(f(x1) >= f(x2) and f(x3) >= f(x2)):\n",
    "            print(\"(\"+'%.3f' % round(x1,3)+\",\"+'%.3f' % round(x3,3)+\")\")\n",
    "            print(count+1)\n",
    "            break\n",
    "        else:\n",
    "            x1 = x2\n",
    "            x2 = x3\n",
    "            x3 = x2 + increm"
   ]
  },
  {
   "cell_type": "code",
   "execution_count": 40,
   "metadata": {},
   "outputs": [
    {
     "name": "stdout",
     "output_type": "stream",
     "text": [
      "(2.942,3.040)\n",
      "61\n"
     ]
    }
   ],
   "source": [
    "Exhaustive_Search(0.1,5,100)"
   ]
  },
  {
   "cell_type": "markdown",
   "metadata": {},
   "source": [
    "# Division of intervals by half\n",
    "#  División de intervalos por la mitad"
   ]
  },
  {
   "cell_type": "code",
   "execution_count": 41,
   "metadata": {},
   "outputs": [],
   "source": [
    "def f(x):\n",
    "    return (x**2) + (54/(x+10))\n"
   ]
  },
  {
   "cell_type": "code",
   "execution_count": 42,
   "metadata": {},
   "outputs": [],
   "source": [
    "def division(a,b,e):\n",
    "    counter = 0\n",
    "    xm = (a+b)/2\n",
    "    L = b - a\n",
    "    while(abs(L) > e):\n",
    "        x1 = a + (L/4)\n",
    "        x2 = b - (L/4)\n",
    "        if f(x1) < f(xm):\n",
    "            b = xm\n",
    "            xm = x1\n",
    "        else:\n",
    "            if(f(x2) < f(xm)):\n",
    "                a = xm\n",
    "                xm = x2\n",
    "            else:\n",
    "                a = x1\n",
    "                b = x2\n",
    "        L = b - a\n",
    "        counter += 2\n",
    "    print(\"(\"+'%.3f' % round(a,3)+\",\"+'%.3f' % round(b,3)+\")\")\n",
    "    print(counter +1)  "
   ]
  },
  {
   "cell_type": "code",
   "execution_count": 43,
   "metadata": {},
   "outputs": [
    {
     "name": "stdout",
     "output_type": "stream",
     "text": [
      "(0.250,0.259)\n",
      "23\n"
     ]
    }
   ],
   "source": [
    "division(-9,9,0.01)\n"
   ]
  },
  {
   "cell_type": "markdown",
   "metadata": {},
   "source": [
    "# Fibonacci search\n",
    "# Búsqueda de Fibonacci"
   ]
  },
  {
   "cell_type": "code",
   "execution_count": 44,
   "metadata": {},
   "outputs": [],
   "source": [
    "def f(x):\n",
    "    return x**2 + (54/x)        "
   ]
  },
  {
   "cell_type": "code",
   "execution_count": 45,
   "metadata": {},
   "outputs": [],
   "source": [
    "def fib(n):\n",
    "    memo = {0: 1, 1: 1}\n",
    " \n",
    "    def helper(n):\n",
    "        if n not in memo:\n",
    "            memo[n] = helper(n - 1) + helper(n - 2)\n",
    "        return memo[n]\n",
    " \n",
    "    return helper(n)\n",
    "    "
   ]
  },
  {
   "cell_type": "code",
   "execution_count": 46,
   "metadata": {},
   "outputs": [],
   "source": [
    "def fibo_S(a,b,n):\n",
    "    L = b-a\n",
    "\n",
    "    count=0\n",
    "\n",
    "    k = 2\n",
    "    while k <= n:\n",
    "        Lke = (fib(n-k)/fib(n))*L\n",
    "        x1 = a + Lke\n",
    "        x2 = b - Lke\n",
    "        count+=1\n",
    "\n",
    "        if f(x1) > f(x2):\n",
    "            a = x1\n",
    "        else:\n",
    "            b = x2\n",
    "        k = k + 1\n",
    "    print(\"(\"+'%.3f' % round(a,3)+\",\"+'%.3f' % round(b,3)+\")\")\n",
    "    print(count+1)"
   ]
  },
  {
   "cell_type": "code",
   "execution_count": 47,
   "metadata": {},
   "outputs": [
    {
     "name": "stdout",
     "output_type": "stream",
     "text": [
      "(2.697,2.921)\n",
      "10\n"
     ]
    }
   ],
   "source": [
    "fibo_S(0,20,10)"
   ]
  },
  {
   "cell_type": "markdown",
   "metadata": {},
   "source": [
    "# Golden section search\n",
    "# Búsqueda Sección dorada"
   ]
  },
  {
   "cell_type": "code",
   "execution_count": 48,
   "metadata": {},
   "outputs": [],
   "source": [
    "\n",
    "\n",
    "def f(x):\n",
    "    global count\n",
    "    count+=1\n",
    "    if x==0:\n",
    "        return None\n",
    "    else:\n",
    "        return 0.65-(0.75/(1+(x**2)))-0.65*x*math.atan(1/x)\n",
    "\n",
    "def norm(w,a,b):\n",
    "    \n",
    "    return w*(b-a)+a"
   ]
  },
  {
   "cell_type": "code",
   "execution_count": 49,
   "metadata": {},
   "outputs": [],
   "source": [
    "\n",
    "count=0\n",
    "def Golden_Search(a,b,epsilon):\n",
    "\n",
    "    aw=0\n",
    "    bw = 1\n",
    "    Lw=1\n",
    "    right=False\n",
    "    left=False\n",
    "    while Lw > (epsilon/(b-a)):\n",
    "        if right==True:\n",
    "            w2=w1\n",
    "            fw2 =fw1\n",
    "            w1 = aw + 0.618*Lw\n",
    "            fw1 = f(norm(w1,a,b))\n",
    "        elif left==True:\n",
    "            w1 = w2\n",
    "            fw1 = fw2\n",
    "            w2 = bw - 0.618*Lw\n",
    "            fw2 = f(norm(w2,a,b))\n",
    "        else:\n",
    "            w1 = aw + 0.618*Lw\n",
    "            w2 = bw - 0.618*Lw\n",
    "            fw1 = f(norm(w1,a,b))\n",
    "            fw2 = f(norm(w2,a,b))\n",
    "            \n",
    "        #count+=1\n",
    "        if fw1 < fw2:\n",
    "            aw = w2\n",
    "            right=True\n",
    "            left=False  \n",
    "        else:\n",
    "            bw = w1\n",
    "            right = False\n",
    "            left = True\n",
    "        Lw = bw - aw\n",
    "\n",
    "    print(\"(\"+'%.3f' % norm(aw,a,b)+\",\"+'%.3f' % norm(bw,a,b)+\")\")\n",
    "    print(count)\n"
   ]
  },
  {
   "cell_type": "code",
   "execution_count": 50,
   "metadata": {},
   "outputs": [
    {
     "name": "stdout",
     "output_type": "stream",
     "text": [
      "(0.480,0.481)\n",
      "18\n"
     ]
    }
   ],
   "source": [
    "Golden_Search(0,3,0.001)"
   ]
  },
  {
   "cell_type": "markdown",
   "metadata": {},
   "source": [
    "# Exercise 1\n",
    "# Ejercicio 1"
   ]
  },
  {
   "cell_type": "code",
   "execution_count": 51,
   "metadata": {},
   "outputs": [],
   "source": [
    "def f(x):\n",
    "    if x==0:\n",
    "        return None\n",
    "    else:\n",
    "        return 0.65-(0.75/(1+(x**2)))-0.65*x*math.atan(1/x)\n",
    "    "
   ]
  },
  {
   "cell_type": "markdown",
   "metadata": {},
   "source": [
    "### Exhaustive search\n",
    "### Búsqueda exhaustiva"
   ]
  },
  {
   "cell_type": "code",
   "execution_count": 52,
   "metadata": {},
   "outputs": [
    {
     "name": "stdout",
     "output_type": "stream",
     "text": [
      "(0.481,0.482)\n",
      "963\n"
     ]
    }
   ],
   "source": [
    "Exhaustive_Search(0,3,6000)"
   ]
  },
  {
   "cell_type": "markdown",
   "metadata": {},
   "source": [
    "### Division of intervals by half\n",
    "###  División de intervalos por la mitad"
   ]
  },
  {
   "cell_type": "code",
   "execution_count": 53,
   "metadata": {},
   "outputs": [
    {
     "name": "stdout",
     "output_type": "stream",
     "text": [
      "(0.480,0.481)\n",
      "25\n"
     ]
    }
   ],
   "source": [
    "division(0,3,0.001)"
   ]
  },
  {
   "cell_type": "markdown",
   "metadata": {},
   "source": [
    "### Fibonacci search\n",
    "### Búsqueda de Fibonacci"
   ]
  },
  {
   "cell_type": "code",
   "execution_count": 54,
   "metadata": {},
   "outputs": [
    {
     "name": "stdout",
     "output_type": "stream",
     "text": [
      "(0.480,0.481)\n",
      "18\n"
     ]
    }
   ],
   "source": [
    "fibo_S(0,3,18)"
   ]
  },
  {
   "cell_type": "markdown",
   "metadata": {},
   "source": [
    "### Golden section search\n",
    "### Búsqueda Sección dorada"
   ]
  },
  {
   "cell_type": "code",
   "execution_count": 55,
   "metadata": {},
   "outputs": [],
   "source": [
    "def f(x):\n",
    "    global count\n",
    "    count+=1\n",
    "    if x==0:\n",
    "        return None\n",
    "    else:\n",
    "        return 0.65-(0.75/(1+(x**2)))-0.65*x*math.atan(1/x)\n",
    "\n",
    "def norm(w,a,b):\n",
    "    \n",
    "    return w*(b-a)+a"
   ]
  },
  {
   "cell_type": "code",
   "execution_count": 56,
   "metadata": {},
   "outputs": [],
   "source": [
    "\n",
    "count=0\n",
    "def Golden_Search(a,b,epsilon):\n",
    "\n",
    "    aw=0\n",
    "    bw = 1\n",
    "    Lw=1\n",
    "    right=False\n",
    "    left=False\n",
    "    while Lw > (epsilon/(b-a)):\n",
    "        if right==True:\n",
    "            w2=w1\n",
    "            fw2 =fw1\n",
    "            w1 = aw + 0.618*Lw\n",
    "            fw1 = f(norm(w1,a,b))\n",
    "        elif left==True:\n",
    "            w1 = w2\n",
    "            fw1 = fw2\n",
    "            w2 = bw - 0.618*Lw\n",
    "            fw2 = f(norm(w2,a,b))\n",
    "        else:\n",
    "            w1 = aw + 0.618*Lw\n",
    "            w2 = bw - 0.618*Lw\n",
    "            fw1 = f(norm(w1,a,b))\n",
    "            fw2 = f(norm(w2,a,b))\n",
    "            \n",
    "        #count+=1\n",
    "        if fw1 < fw2:\n",
    "            aw = w2\n",
    "            right=True\n",
    "            left=False  \n",
    "        else:\n",
    "            bw = w1\n",
    "            right = False\n",
    "            left = True\n",
    "        Lw = bw - aw\n",
    "\n",
    "    print(\"(\"+'%.3f' % norm(aw,a,b)+\",\"+'%.3f' % norm(bw,a,b)+\")\")\n",
    "    print(count)\n"
   ]
  },
  {
   "cell_type": "code",
   "execution_count": 57,
   "metadata": {},
   "outputs": [
    {
     "name": "stdout",
     "output_type": "stream",
     "text": [
      "(0.480,0.481)\n",
      "18\n"
     ]
    }
   ],
   "source": [
    "Golden_Search(0,3,0.001)"
   ]
  },
  {
   "cell_type": "markdown",
   "metadata": {},
   "source": [
    "# Exercise 2\n",
    "# Ejercicio 2"
   ]
  },
  {
   "cell_type": "markdown",
   "metadata": {},
   "source": [
    "### Exhaustive search\n",
    "### Búsqueda exhaustiva"
   ]
  },
  {
   "cell_type": "markdown",
   "metadata": {},
   "source": [
    "$$\\epsilon = \\frac{2(b-a)}{n} $$\n",
    "$$n = \\frac{2(b-a)}{\\epsilon} $$\n"
   ]
  },
  {
   "cell_type": "code",
   "execution_count": 20,
   "metadata": {},
   "outputs": [
    {
     "data": {
      "text/plain": [
       "6000.0"
      ]
     },
     "execution_count": 20,
     "metadata": {},
     "output_type": "execute_result"
    }
   ],
   "source": [
    "2*(3-0)/0.001"
   ]
  },
  {
   "cell_type": "markdown",
   "metadata": {},
   "source": [
    "### Division of intervals by half\n",
    "###  División de intervalos por la mitad"
   ]
  },
  {
   "cell_type": "markdown",
   "metadata": {},
   "source": [
    "$$2\\frac{\\log(\\epsilon / L_0)}{\\log(1 / 2)} $$"
   ]
  },
  {
   "cell_type": "code",
   "execution_count": 38,
   "metadata": {},
   "outputs": [
    {
     "data": {
      "text/plain": [
       "23.101493570766486"
      ]
     },
     "execution_count": 38,
     "metadata": {},
     "output_type": "execute_result"
    }
   ],
   "source": [
    "2*((math.log(0.001/(3-0)))/(math.log(1/2)))"
   ]
  },
  {
   "cell_type": "markdown",
   "metadata": {},
   "source": [
    "El algoritmo realiza 23.10 evaluaciones de la función objetivo pero no puedes tener decimales asi que son 24 evaluaciones mas la inicial que son 25."
   ]
  },
  {
   "cell_type": "markdown",
   "metadata": {},
   "source": [
    "### Fibonacci search\n",
    "### Búsqueda de Fibonacci"
   ]
  },
  {
   "cell_type": "markdown",
   "metadata": {},
   "source": [
    "$$ \\frac{1}{F_n}L=\\epsilon $$ \n",
    "$$F_n = \\frac{L}{\\epsilon} $$ "
   ]
  },
  {
   "cell_type": "code",
   "execution_count": 22,
   "metadata": {},
   "outputs": [
    {
     "data": {
      "text/plain": [
       "3000.0"
      ]
     },
     "execution_count": 22,
     "metadata": {},
     "output_type": "execute_result"
    }
   ],
   "source": [
    "(3-0)/0.001"
   ]
  },
  {
   "cell_type": "code",
   "execution_count": 25,
   "metadata": {},
   "outputs": [
    {
     "name": "stdout",
     "output_type": "stream",
     "text": [
      "18\n"
     ]
    }
   ],
   "source": [
    "n =0\n",
    "while True:\n",
    "    if fib(n) >= 3000:\n",
    "        print(n)\n",
    "        break\n",
    "    n+=1"
   ]
  },
  {
   "cell_type": "markdown",
   "metadata": {},
   "source": [
    "### Golden section search\n",
    "### Búsqueda Sección dorada"
   ]
  },
  {
   "cell_type": "markdown",
   "metadata": {},
   "source": [
    "$$ \\epsilon = \\tau^{(n-1)}*(b-a) $$\n",
    "$$ \\tau^{(n-1)} = \\frac{\\epsilon}{(b-a)}  $$\n",
    "$$ log_\\tau(\\tau^{(n-1)}) = log_\\tau\\left(\\frac{\\epsilon}{(b-a)}\\right) $$\n",
    "$$ n-1 = log_\\tau\\left(\\frac{\\epsilon}{(b-a)}\\right)$$\n",
    "$$ n=log_\\tau\\left(\\frac{\\epsilon}{(b-a)}\\right)+1 $$"
   ]
  },
  {
   "cell_type": "code",
   "execution_count": 75,
   "metadata": {},
   "outputs": [
    {
     "data": {
      "text/plain": [
       "17.636026440155415"
      ]
     },
     "execution_count": 75,
     "metadata": {},
     "output_type": "execute_result"
    }
   ],
   "source": [
    "a= (0.001)/(3-0)\n",
    "math.log(a, 0.618)+1"
   ]
  },
  {
   "cell_type": "markdown",
   "metadata": {},
   "source": [
    "# Exercise 3\n",
    "# Ejercicio 3"
   ]
  },
  {
   "cell_type": "code",
   "execution_count": 49,
   "metadata": {},
   "outputs": [
    {
     "data": {
      "text/plain": [
       "Text(0, 0.5, 'F(x)')"
      ]
     },
     "execution_count": 49,
     "metadata": {},
     "output_type": "execute_result"
    },
    {
     "data": {
      "image/png": "[encoded data removed]",
      "text/plain": [
       "<Figure size 432x288 with 1 Axes>"
      ]
     },
     "metadata": {
      "needs_background": "light"
     },
     "output_type": "display_data"
    }
   ],
   "source": [
    "inter = np.arange(0,3,0.001)\n",
    "xval = [f(i) for i in inter]\n",
    "plt.plot(inter,xval)\n",
    "plt.title('3')\n",
    "plt.xlabel('Intervals')\n",
    "plt.ylabel('F(x)')"
   ]
  },
  {
   "cell_type": "markdown",
   "metadata": {},
   "source": [
    "# Exercise 4\n",
    "# Ejercicio 4"
   ]
  },
  {
   "cell_type": "code",
   "execution_count": 58,
   "metadata": {},
   "outputs": [],
   "source": [
    "def eval_Exhaustive(n):\n",
    "    return 2/n\n",
    "\n",
    "def eval_DivHalf(n):\n",
    "    return (1/2)**(n/2)\n",
    "\n",
    "def eval_fibo(n):\n",
    "    return 1/fib(n)\n",
    "\n",
    "def eval_Gold(n):\n",
    "    return (0.618)**(n-1)"
   ]
  },
  {
   "cell_type": "code",
   "execution_count": 59,
   "metadata": {},
   "outputs": [],
   "source": [
    "a = np.zeros((4,5))\n",
    "c = 0\n",
    "for i in [10,20,30,40,50]:\n",
    "    a[0][c] =  eval_Exhaustive(i)\n",
    "    c+=1\n",
    "\n",
    "c = 0\n",
    "for i in [10,20,30,40,50]:\n",
    "    a[1][c] =  eval_DivHalf(i)\n",
    "    c+=1\n",
    "\n",
    "c = 0\n",
    "for i in [10,20,30,40,50]:\n",
    "    a[2][c] =  eval_fibo(i)\n",
    "    c+=1\n",
    "    \n",
    "    \n",
    "c = 0\n",
    "for i in [10,20,30,40,50]:\n",
    "    a[3][c] =  eval_Gold(i)\n",
    "    c+=1\n"
   ]
  },
  {
   "cell_type": "code",
   "execution_count": 60,
   "metadata": {},
   "outputs": [
    {
     "data": {
      "text/html": [
       "<div>\n",
       "<style scoped>\n",
       "    .dataframe tbody tr th:only-of-type {\n",
       "        vertical-align: middle;\n",
       "    }\n",
       "\n",
       "    .dataframe tbody tr th {\n",
       "        vertical-align: top;\n",
       "    }\n",
       "\n",
       "    .dataframe thead th {\n",
       "        text-align: right;\n",
       "    }\n",
       "</style>\n",
       "<table border=\"1\" class=\"dataframe\">\n",
       "  <thead>\n",
       "    <tr style=\"text-align: right;\">\n",
       "      <th></th>\n",
       "      <th>10</th>\n",
       "      <th>20</th>\n",
       "      <th>30</th>\n",
       "      <th>40</th>\n",
       "      <th>50</th>\n",
       "    </tr>\n",
       "  </thead>\n",
       "  <tbody>\n",
       "    <tr>\n",
       "      <th>Exhaustive search</th>\n",
       "      <td>0.200000</td>\n",
       "      <td>0.100000</td>\n",
       "      <td>6.666667e-02</td>\n",
       "      <td>5.000000e-02</td>\n",
       "      <td>4.000000e-02</td>\n",
       "    </tr>\n",
       "    <tr>\n",
       "      <th>Division of intervals by half</th>\n",
       "      <td>0.031250</td>\n",
       "      <td>0.000977</td>\n",
       "      <td>3.051758e-05</td>\n",
       "      <td>9.536743e-07</td>\n",
       "      <td>2.980232e-08</td>\n",
       "    </tr>\n",
       "    <tr>\n",
       "      <th>Fibonacci search</th>\n",
       "      <td>0.011236</td>\n",
       "      <td>0.000091</td>\n",
       "      <td>7.427936e-07</td>\n",
       "      <td>6.039372e-09</td>\n",
       "      <td>4.910383e-11</td>\n",
       "    </tr>\n",
       "    <tr>\n",
       "      <th>Golden section search</th>\n",
       "      <td>0.013149</td>\n",
       "      <td>0.000107</td>\n",
       "      <td>8.682920e-07</td>\n",
       "      <td>7.055869e-09</td>\n",
       "      <td>5.733704e-11</td>\n",
       "    </tr>\n",
       "  </tbody>\n",
       "</table>\n",
       "</div>"
      ],
      "text/plain": [
       "                                     10        20            30            40  \\\n",
       "Exhaustive search              0.200000  0.100000  6.666667e-02  5.000000e-02   \n",
       "Division of intervals by half  0.031250  0.000977  3.051758e-05  9.536743e-07   \n",
       "Fibonacci search               0.011236  0.000091  7.427936e-07  6.039372e-09   \n",
       "Golden section search          0.013149  0.000107  8.682920e-07  7.055869e-09   \n",
       "\n",
       "                                         50  \n",
       "Exhaustive search              4.000000e-02  \n",
       "Division of intervals by half  2.980232e-08  \n",
       "Fibonacci search               4.910383e-11  \n",
       "Golden section search          5.733704e-11  "
      ]
     },
     "execution_count": 60,
     "metadata": {},
     "output_type": "execute_result"
    }
   ],
   "source": [
    "pd.DataFrame(a,columns=[\"10\",\"20\",\"30\",\"40\",\"50\"],index=[\"Exhaustive search\",\"Division of intervals by half\",\"Fibonacci search\",\"Golden section search\"])"
   ]
  },
  {
   "cell_type": "markdown",
   "metadata": {},
   "source": [
    "The best algorithm is fibonacci search, got the lowest score in the table.<br>\n",
    "El mejor algoritmo es busqueda fibonacci ya que en la tabla de evaluacion obtuvo el menor puntaje."
   ]
  }
 ],
 "metadata": {
  "kernelspec": {
   "display_name": "Python 3",
   "language": "python",
   "name": "python3"
  },
  "language_info": {
   "codemirror_mode": {
    "name": "ipython",
    "version": 3
   },
   "file_extension": ".py",
   "mimetype": "text/x-python",
   "name": "python",
   "nbconvert_exporter": "python",
   "pygments_lexer": "ipython3",
   "version": "3.8.5"
  }
 },
 "nbformat": 4,
 "nbformat_minor": 4
}
