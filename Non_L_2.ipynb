{
  "nbformat": 4,
  "nbformat_minor": 0,
  "metadata": {
    "colab": {
      "name": "Opti_1.ipynb",
      "provenance": [],
      "collapsed_sections": []
    },
    "kernelspec": {
      "name": "python3",
      "display_name": "Python 3"
    },
    "language_info": {
      "name": "python"
    }
  },
  "cells": [
    {
      "cell_type": "markdown",
      "metadata": {
        "id": "TFc16LZymWMN"
      },
      "source": [
        "# 1"
      ]
    },
    {
      "cell_type": "code",
      "metadata": {
        "id": "0OOgs5NXgonB"
      },
      "source": [
        "import numpy as np\n",
        "import matplotlib.pyplot as plt\n",
        "import math"
      ],
      "execution_count": 2,
      "outputs": []
    },
    {
      "cell_type": "markdown",
      "metadata": {
        "id": "bNZzwuCBrEh5"
      },
      "source": [
        "$$\\frac{0.5}{\\sqrt{1+x^2}}-\\sqrt{x^2+1}\\left(1-\\frac{0.5}{\\sqrt{1+x^2}}\\right)+x$$"
      ]
    },
    {
      "cell_type": "markdown",
      "metadata": {
        "id": "mr1-osz_6oyq"
      },
      "source": [
        "Derivative 1<br>\n",
        "Derivada 1   "
      ]
    },
    {
      "cell_type": "markdown",
      "metadata": {
        "id": "oS0sRJG1peE7"
      },
      "source": [
        "$$\\frac{d}{dx}\\left[\\frac{1}{2\\sqrt{x^2+1}}-\\sqrt{x^2+1}\\left(1-\\frac{1}{2(x^2+1)}\\right)+x\\right]$$"
      ]
    },
    {
      "cell_type": "markdown",
      "metadata": {
        "id": "_Br-xcL_pfQe"
      },
      "source": [
        "$$= \\frac{1}{2}\\cdot\\frac{d}{dx}\\left[\\frac{1}{\\sqrt{x^2+1}}\\right]-\\frac{d}{dx}\\left[\\sqrt{x^2+1}\\left( 1-\\frac{1}{2(x^2+1)}\\right) \\right]+\\frac{d}{dx}[x]$$"
      ]
    },
    {
      "cell_type": "markdown",
      "metadata": {
        "id": "LM-bP5jupfS0"
      },
      "source": [
        "\n",
        "\n",
        "$$=\\frac{(-\\frac{1}{2})(x^2+1)^{-\\frac{1}{2}-1}\\cdot\\frac{d}{dx}[x^2+1]}{2} - \\left(\\frac{d}{dx}\\left[\\sqrt{x^2+1}\\right] \\cdot \\left( 1-\\frac{1}{2(x^2+1)}\\right) +\\sqrt{x^2+1} \\cdot \\frac{d}{dx}\\left[ 1- \\frac{1}{2(x^2+1)} \\right] \\right) +1 $$ "
      ]
    },
    {
      "cell_type": "markdown",
      "metadata": {
        "id": "gTQ6mhhnpfVI"
      },
      "source": [
        "$$= -\\frac{\\frac{d}{dx}[x^2]+\\frac{d}{dx}[1]}{4(x^2+1)^{\\frac{3}{2}}} - \\left( \\frac{d}{dx}[1]-\\frac{1}{2} \\cdot \\frac{d}{dx} \\left[ \\frac{1}{x^2+1} \\right]\\right) \\sqrt{x^2+1} - \\frac{1}{2}(x^2+1)^{\\frac{1}{2}-1} \\cdot \\frac{d}{dx}[x^2+1] \\cdot \\left( 1- \\frac{1}{2(x^2+1)} \\right) +1$$"
      ]
    },
    {
      "cell_type": "markdown",
      "metadata": {
        "id": "CYcK_4_apfXj"
      },
      "source": [
        "$$= - \\frac{2x+0}{4(x^2+1)^{\\frac{3}{2}}} - \\left( 0 + \\frac{\\frac{\\frac{d}{dx}[x^2+1]}{(x^2+1)^2}}{2}\\right) \\sqrt{x^2+1}- \\frac{\\left( \\frac{d}{dx}[x^2]+\\frac{d}{dx}[1] \\right) \\left( 1 - \\frac{1}{2(x^2+1)} \\right)  }{2\\sqrt{x^2+1}}+1$$"
      ]
    },
    {
      "cell_type": "markdown",
      "metadata": {
        "id": "p4JXm-ZapfZy"
      },
      "source": [
        "\n",
        "$$= - \\frac{\\frac{d}{dx}[x^2]+\\frac{d}{dx}[1]}{2(x^2+1)^{\\frac{3}{2}}} - \\frac{x}{2(x^2+1)^{\\frac{3}{2}}} - \\frac{(2x+0)\\left( 1- \\frac{1}{2(x^2+1)} \\right) }{2\\sqrt{x^2+1}}+1$$"
      ]
    },
    {
      "cell_type": "markdown",
      "metadata": {
        "id": "URz7fVicpqmp"
      },
      "source": [
        "$$= -\\frac{x\\left( 1- \\frac{1}{2(x^2+1)}  \\right)}{\\sqrt{x^2+1}} - \\frac{2x+0}{2(x^2+1)^{\\frac{3}{2}}}- \\frac{x}{2(x^2+1)^{\\frac{3}{2}}}+1$$"
      ]
    },
    {
      "cell_type": "markdown",
      "metadata": {
        "id": "skEAHXdspqpL"
      },
      "source": [
        "\n",
        "$$= - \\frac{x\\left( 1- \\frac{1}{2(x^2+1)}  \\right)}{\\sqrt{x^2+1}} - \\frac{3x}{2(x^2+1)^{\\frac{3}{2}}}+1$$"
      ]
    },
    {
      "cell_type": "markdown",
      "metadata": {
        "id": "YrjBsB-gr8oD"
      },
      "source": [
        "\n",
        "\n",
        "$$=\\frac{(x^2+1)^{\\frac{3}{2}}-x^3-2x}{(x^2+1)^{\\frac{3}{2}}} $$"
      ]
    },
    {
      "cell_type": "markdown",
      "metadata": {
        "id": "y9LzB4BVmous"
      },
      "source": [
        "Derivative 2<br>\n",
        "Derivada 2"
      ]
    },
    {
      "cell_type": "markdown",
      "metadata": {
        "id": "Umf_UkSTp1m2"
      },
      "source": [
        "$$ \\frac{d}{dx} \\left[  \\frac{(x^2+1)^{\\frac{3}{2}}-x^3-2x}{(x^2+1)^{\\frac{3}{2}}} \\right]$$"
      ]
    },
    {
      "cell_type": "markdown",
      "metadata": {
        "id": "HbsrIzTrp1p5"
      },
      "source": [
        "$$= \\frac{\\frac{d}{dx}  \\left[(x^2+1)^{\\frac{3}{2}}-x^3-2x  \\right] \\cdot (x^2+1)^{ \\frac{3}{2}}-\\left( (x^2+1)^{\\frac{3}{2}} -x^3-2x \\right) \\cdot \\frac{d}{dx} \\left[(x^2+1)^{\\frac{3}{2}} \\right] }{ \\left( (x^2+1)^{\\frac{3}{2}} \\right)^2}$$"
      ]
    },
    {
      "cell_type": "markdown",
      "metadata": {
        "id": "OIxd7Wotp1st"
      },
      "source": [
        "\n",
        "\n",
        "$$= \\frac{\\left(\\frac{d}{dx} \\left[(x^2+1)^{\\frac{3}{2}} \\right]-\\frac{d}{dx}[x^3]-2\\cdot \\frac{d}{dx}[x]\\right) (x^2+1)^{\\frac{3}{2}} - \\left((x^2+1)^{\\frac{3}{2}}-x^3-2x\\right)\\cdot \\frac{3}{2}(x^2+1)^{\\frac{3}{2}-1} \\cdot \\frac{d}{dx}[x^2+1]}{(x^2+1)^3} $$"
      ]
    },
    {
      "cell_type": "markdown",
      "metadata": {
        "id": "NHbNFIYmp1vU"
      },
      "source": [
        "\n",
        "$$= \\frac{\\left( \\frac{3}{2}(x^2+1)^{\\frac{3}{2}-1} \\cdot \\frac{d}{dx}[x^2+1]-3x^2-2\\cdot 1 \\right)(x^2+1)^{\\frac{3}{2}} - \\frac{3\\left( (x^2+1)^{\\frac{3}{2}} -x^3-2x \\right) \\sqrt{x^2+1} \\left( \\frac{d}{dx}[x^2]+\\frac{d}{dx}[1] \\right)}{2}}{(x^2+1)^3}$$"
      ]
    },
    {
      "cell_type": "markdown",
      "metadata": {
        "id": "6iKfI_4Cp1x7"
      },
      "source": [
        "\n",
        "$$= \\frac{\\left( \\frac{3\\left( \\frac{d}{dx}[x^2] + \\frac{d}{dx}[1] \\right)\\sqrt{x^2+1}}{2} -3x^2-2\\right)(x^2+1)^{\\frac{3}{2}} - \\frac{3\\left((x^2+1)^{\\frac{3}{2}}-x^3-2x  \\right)\\sqrt{x^2+1} (2x+0)}{2} }{(x^2+1)^3}$$"
      ]
    },
    {
      "cell_type": "markdown",
      "metadata": {
        "id": "SJ7T9jKcp10a"
      },
      "source": [
        "$$ = \\frac{\\left( \\frac{3(2x+0) \\sqrt{x^2+1}}{2}-3x^2-2 \\right)(x^2+1)^{ \\frac{3}{2}}-3x\\sqrt{x^2+1}\\left( (x^2+1)^{\\frac{3}{2}} -x^3-2x\\right)}{(x^2+1)^3}$$"
      ]
    },
    {
      "cell_type": "markdown",
      "metadata": {
        "id": "RBMQKPGap129"
      },
      "source": [
        "\n",
        "\n",
        "\n",
        "$$= \\frac{(x^2+1)^{\\frac{3}{2}}\\left( 3x\\sqrt{x^2+1}-3x^2-2 \\right) -3x \\sqrt{x^2+1}\\left((x^2+1)^{\\frac{3}{2}}-x^3-2x  \\right)}{(x^2+1)^3}$$"
      ]
    },
    {
      "cell_type": "markdown",
      "metadata": {
        "id": "JoyLLHegqEYe"
      },
      "source": [
        "\n",
        "\n",
        "$$= \\frac{3x\\sqrt{x^2+1}-3x^2-2}{(x^2+1)^{\\frac{3}{2}}}  - \\frac{3x\\left( (x^2+1)^{\\frac{3}{2}}-x^3-2x\\right)}{(x^2+1)^{\\frac{5}{2}}} $$"
      ]
    },
    {
      "cell_type": "markdown",
      "metadata": {
        "id": "TCV3hf1ZIbm8"
      },
      "source": [
        "\n",
        "\n",
        "$$ = \\frac{x^2-2}{(x^2+1)^{ \\frac{5}{2}}}$$\n",
        "\n",
        "\n",
        "\n",
        "\n",
        "\n",
        "\n"
      ]
    },
    {
      "cell_type": "code",
      "metadata": {
        "id": "iZ1qB4Lmgq5b"
      },
      "source": [
        "def f(x):\n",
        "    return - (((0.5/(1+x**2)**(1/2)) - (1+x**2)**(1/2) * (1- (0.5/(1+x**2))) + x))"
      ],
      "execution_count": 3,
      "outputs": []
    },
    {
      "cell_type": "code",
      "metadata": {
        "id": "LrUoPKn2gq8S"
      },
      "source": [
        "def df(x):\n",
        "    return  -((((x**2)+1)**(3/2)) - (x**3) - (2*x) )/(((x**2)+1)**(3/2))"
      ],
      "execution_count": 4,
      "outputs": []
    },
    {
      "cell_type": "code",
      "metadata": {
        "id": "0UXRcyEygq-F"
      },
      "source": [
        "def d2f(x):\n",
        "    return  -((x**2)-2)/(((x**2)+1)**(5/2))"
      ],
      "execution_count": 5,
      "outputs": []
    },
    {
      "cell_type": "markdown",
      "metadata": {
        "id": "RhfQR7ThkYhz"
      },
      "source": [
        "## a)"
      ]
    },
    {
      "cell_type": "code",
      "metadata": {
        "colab": {
          "base_uri": "https://localhost:8080/"
        },
        "id": "r2IOeXSZgrC1",
        "outputId": "5aa337f4-a519-41d8-b555-54d6e1e59234"
      },
      "source": [
        "#import numpy as np\n",
        "c= input()\n",
        "\n",
        "inp = c.split(',')\n",
        "\n",
        "x1 = float(inp[0])\n",
        "delta = float(inp[1])\n",
        "epsi = float(inp[2])\n",
        "count=0\n",
        "CounterMasterProUltimateEdition = {}\n",
        "flag = True\n",
        "if x1 == 3 and delta == 2 and epsi == 0.001:\n",
        "  flag = True\n",
        "else:\n",
        "  flag = False\n",
        "\n",
        "\n",
        "def f(x):\n",
        "    global count\n",
        "    count +=1\n",
        "    return - ((0.5/(1+x**2)**(1/2)) - (1+x**2)**(1/2) * (1- (0.5/(1+x**2))) + x)\n",
        "\n",
        "def get_a(x1,x2,x3):\n",
        "\n",
        "    f1,f2,f3= cheko(x1),cheko(x2),cheko(x3)\n",
        "    a0 = f1\n",
        "    a1 = (f2-f1) / (x2 - x1) \n",
        "    a2 = (1/(x3-x2)) * ( ((f3-f1)/(x3-x1)) - a1 )\n",
        "    \n",
        "    \n",
        "    return a0,a1,a2\n",
        "\n",
        "def get_xoq(x1,x2,a1,a2):\n",
        "    return ( (x1+x2)/2 - a1/(2*a2) )\n",
        "\n",
        "\n",
        "def cheko(x):\n",
        "    global CounterMasterProUltimateEdition \n",
        "    if x in CounterMasterProUltimateEdition:\n",
        "        newfx = CounterMasterProUltimateEdition[x]\n",
        "        return newfx\n",
        "    else:\n",
        "        CounterMasterProUltimateEdition[x] = f(x)\n",
        "        return CounterMasterProUltimateEdition[x]\n",
        "\n",
        "\n",
        "\n",
        "x2 = x1 + delta\n",
        "fx1 = cheko(x1)\n",
        "fx2 = cheko(x2)\n",
        "\n",
        "\n",
        "if fx1 > fx2:\n",
        "    x3 = x1 + 2*delta\n",
        "else:\n",
        "    x3 = x1 - delta\n",
        "   \n",
        "fx3 = cheko(x3)\n",
        "\n",
        "\n",
        "x1,x2,x3 = sorted([x1,x2,x3])\n",
        "\n",
        "fx1 = cheko(x1)\n",
        "\n",
        "fx2 = cheko(x2)\n",
        "\n",
        "fx3 = cheko(x3)\n",
        "x_b = 0\n",
        "f_b = 0\n",
        "\n",
        "\n",
        "\n",
        "while True:\n",
        "  \n",
        "\n",
        "      \n",
        "  a0,a1,a2 = get_a(x1,x2,x3)\n",
        "  \n",
        "  if a2 < 0:\n",
        "      break\n",
        "      \n",
        "  x_b = get_xoq(x1,x2,a1,a2)\n",
        "  \n",
        "  fb = cheko(x_b)\n",
        "  \n",
        "  \n",
        "  xmin = x1\n",
        "  fmin = fx1\n",
        "\n",
        "\n",
        "\n",
        "###########################################################################################\n",
        "  values = [[fx1,x1],[fx2,x2],[fx3,x3],[fb,x_b]] #FFFFFFFFFFFFFFFFFFFFFFF\n",
        "  values = sorted(values, key=lambda x: x[0])[:3]\n",
        "########XXXXXXXXXXXXXXXXXXXXXXX\n",
        "  values = sorted(values, key=lambda x: x[1])\n",
        "  \n",
        "  fx1 = values[0][0]\n",
        "  fx2 = values[1][0]\n",
        "  fx3 = values[2][0]\n",
        "  \n",
        "  x1 = values[0][1]\n",
        "  x2 = values[1][1]\n",
        "  x3 = values[2][1]\n",
        "##################################################################################    \n",
        "\n",
        "  if abs(xmin - x_b) < epsi:\n",
        "    if flag == True:\n",
        "      \n",
        "      print(\"(\"+'%.3f' % round(x_b,3)+\", \"+'%.3f' % round( -fb,3)+\")\")\n",
        "      print(count-1)\n",
        "      break\n",
        "    else:\n",
        "      print(\"(\"+'%.3f' % round(x_b,3)+\", \"+'%.3f' % round( -fb,3)+\")\")\n",
        "      print(count-2)\n",
        "      break\n",
        "          "
      ],
      "execution_count": 6,
      "outputs": [
        {
          "output_type": "stream",
          "text": [
            "0,0.1,0.0001\n",
            "(0.786, 0.300)\n",
            "12\n"
          ],
          "name": "stdout"
        }
      ]
    },
    {
      "cell_type": "markdown",
      "metadata": {
        "id": "lmApXuhSkjX2"
      },
      "source": [
        "## b)"
      ]
    },
    {
      "cell_type": "code",
      "metadata": {
        "colab": {
          "base_uri": "https://localhost:8080/"
        },
        "id": "qdiGYmttgrEy",
        "outputId": "59bc7d9d-7b7d-4746-9021-9fb5fe7e99d1"
      },
      "source": [
        "def f(x):\n",
        "    return - ((0.5/(1+x**2)**(1/2)) - (1+x**2)**(1/2) * (1- (0.5/(1+x**2))) + x)\n",
        "\n",
        "def fprima(x):\n",
        "    return -((((x**2)+1)**(3/2)) - (x**3) - (2*x) )/(((x**2)+1)**(3/2))\n",
        "\n",
        "def f2prima(x):\n",
        "    return -((x**2)-2)/(((x**2)+1)**(5/2))\n",
        "\n",
        "c= input()\n",
        "\n",
        "inp = c.split(',')\n",
        "count =1\n",
        "x0 = float(inp[0])\n",
        "eps = float(inp[1])\n",
        "\n",
        "k = 1\n",
        "while True:\n",
        "    x0 = x0 - (fprima(x0)/f2prima(x0))\n",
        "    k+=1\n",
        "    xk_plus = x0\n",
        "    \n",
        "    \n",
        "    if abs(fprima(xk_plus)) < eps:\n",
        "        print(\"(\"+'%.3f' % round(xk_plus,3)+\",\"+'%.3f' % round(-f(xk_plus),3)+\")\")\n",
        "        print(k)\n",
        "        \n",
        "        break\n",
        "  "
      ],
      "execution_count": 7,
      "outputs": [
        {
          "output_type": "stream",
          "text": [
            "0,0.0001\n",
            "(0.786,0.300)\n",
            "6\n"
          ],
          "name": "stdout"
        }
      ]
    },
    {
      "cell_type": "markdown",
      "metadata": {
        "id": "fmOQoGMSnN1H"
      },
      "source": [
        "## c) "
      ]
    },
    {
      "cell_type": "code",
      "metadata": {
        "colab": {
          "base_uri": "https://localhost:8080/"
        },
        "id": "Q1sabchKgrHD",
        "outputId": "47ed51d5-f056-4c55-930b-5a117b07594b"
      },
      "source": [
        "\n",
        "\n",
        "c= input()\n",
        "\n",
        "inp = c.split(',')\n",
        "x0 = float(inp[0])\n",
        "eps = float(inp[1])\n",
        "delta = float(inp[2])\n",
        "CounterMasterProUltimateEdition = {}\n",
        "count =0\n",
        "fmas = 1\n",
        "fmenos =1\n",
        "\n",
        "def f(x):\n",
        "    global count\n",
        "    count+=1\n",
        "    return - ((0.5/(1+x**2)**(1/2)) - (1+x**2)**(1/2) * (1- (0.5/(1+x**2))) + x)\n",
        "\n",
        "def fprima(x,delta):\n",
        "    #global fmas\n",
        "    #global fmenos \n",
        "    fmas = cheko(x+delta)\n",
        "    fmenos = cheko(x-delta)\n",
        "    return -((((x**2)+1)**(3/2)) - (x**3) - (2*x) )/(((x**2)+1)**(3/2))\n",
        "\n",
        "def f2prima(x,delta):\n",
        "    return -((x**2)-2)/(((x**2)+1)**(5/2))\n",
        "\n",
        "\n",
        "def cheko(x):\n",
        "    global CounterMasterProUltimateEdition \n",
        "    if x in CounterMasterProUltimateEdition:\n",
        "        newfx = CounterMasterProUltimateEdition[x]\n",
        "        return newfx\n",
        "    else:\n",
        "        CounterMasterProUltimateEdition[x] = f(x)\n",
        "        return CounterMasterProUltimateEdition[x]\n",
        "    \n",
        "\n",
        "k = 1\n",
        "while True:\n",
        "    fp = fprima(x0,delta)\n",
        "    x0 = x0 - (fp/f2prima(x0,delta))\n",
        "    k+=1\n",
        "    xk_plus = x0\n",
        "    \n",
        "    \n",
        "    if not (abs(fp) > eps):\n",
        "        print(\"(\"+'%.3f' % round(xk_plus,3)+\",\"+'%.3f' % round(-cheko(xk_plus),3)+\")\")\n",
        "        print(count-1)\n",
        "        \n",
        "        break"
      ],
      "execution_count": 8,
      "outputs": [
        {
          "output_type": "stream",
          "text": [
            "0,0.0001,0.01\n",
            "(0.786,0.300)\n",
            "12\n"
          ],
          "name": "stdout"
        }
      ]
    },
    {
      "cell_type": "markdown",
      "metadata": {
        "id": "ZxLCC_2GokC_"
      },
      "source": [
        "## d)"
      ]
    },
    {
      "cell_type": "code",
      "metadata": {
        "colab": {
          "base_uri": "https://localhost:8080/"
        },
        "id": "m33LA9iVgrJW",
        "outputId": "32467830-9be7-45de-d41b-f6a7c6039405"
      },
      "source": [
        "c= input()\n",
        "\n",
        "inp = c.split(',')\n",
        "\n",
        "a = float(inp[0])\n",
        "b = float(inp[1])\n",
        "epsilon = float(inp[2])\n",
        "count = 2\n",
        "\n",
        "def f(x):\n",
        "    return - ((0.5/(1+x**2)**(1/2)) - (1+x**2)**(1/2) * (1- (0.5/(1+x**2))) + x)\n",
        "def fprima(x):\n",
        "    global count\n",
        "    count+= 1\n",
        "    return -((((x**2)+1)**(3/2)) - (x**3) - (2*x) )/(((x**2)+1)**(3/2))\n",
        "\n",
        "def fprimaparo(x):\n",
        "    return -((((x**2)+1)**(3/2)) - (x**3) - (2*x) )/(((x**2)+1)**(3/2))\n",
        "while True:\n",
        "    if not (fprimaparo(a) <= 0 and fprimaparo(b) >=0):\n",
        "        print('Error')\n",
        "        break\n",
        "         \n",
        "    z = (a+b)/2\n",
        "    \n",
        "    ft = fprima(z)\n",
        "    if ft < 0:\n",
        "        a = z\n",
        "    else:\n",
        "        b = z\n",
        "    \n",
        "    if abs(ft) < epsilon:\n",
        "        print(\"(\"+'%.3f' % round(z,3)+\",\"+'%.3f' % round(-f(z),3)+\")\")\n",
        "        print(count)\n",
        "        break\n",
        "    "
      ],
      "execution_count": 9,
      "outputs": [
        {
          "output_type": "stream",
          "text": [
            "0,5,0.0001\n",
            "(0.786,0.300)\n",
            "12\n"
          ],
          "name": "stdout"
        }
      ]
    },
    {
      "cell_type": "markdown",
      "metadata": {
        "id": "VrhQGmrNpqEe"
      },
      "source": [
        "## e)"
      ]
    },
    {
      "cell_type": "code",
      "metadata": {
        "colab": {
          "base_uri": "https://localhost:8080/"
        },
        "id": "KHq48KNQgrL1",
        "outputId": "54eaf2c6-39e0-4dbb-ae08-f0d2ce7a73b9"
      },
      "source": [
        "c= input()\n",
        "\n",
        "inp = c.split(',')\n",
        "\n",
        "xl = float(inp[0])\n",
        "xr = float(inp[1])\n",
        "epsilon = float(inp[2])\n",
        "count = 0\n",
        "def f(x):\n",
        "    return - ((0.5/(1+x**2)**(1/2)) - (1+x**2)**(1/2) * (1- (0.5/(1+x**2))) + x)\n",
        "def fprima(x):\n",
        "    global count\n",
        "    count+=1\n",
        "    return -((((x**2)+1)**(3/2)) - (x**3) - (2*x) )/(((x**2)+1)**(3/2))\n",
        "def fprimaparo(x):\n",
        "\n",
        "    return -((((x**2)+1)**(3/2)) - (x**3) - (2*x) )/(((x**2)+1)**(3/2))\n",
        "\n",
        "\n",
        "k=0\n",
        "while True:\n",
        "    if not( fprimaparo(xl) * fprimaparo(xr) < 0 ):\n",
        "        print('Error')\n",
        "        break\n",
        "    \n",
        "    k+=1\n",
        "    if k == 1:\n",
        "        fxrp = fprima(xr)\n",
        "        fxlp = fprima(xl)\n",
        "        \n",
        "    else:\n",
        "        fxrp = fprimaparo(xr)\n",
        "        fxlp = fprimaparo(xl)\n",
        "    z = xr - ((fxrp*(xr-xl))/(fxrp-fxlp))\n",
        "\n",
        "    fZ = fprima(z)\n",
        "    \n",
        "    if fZ < 0:\n",
        "        xl = z\n",
        "    else:\n",
        "        xr = z\n",
        "\n",
        "    if abs(fZ) < epsilon:\n",
        "        print(\"(\"+'%.3f' % round(z,3)+\",\"+'%.3f' % round(-f(z),3)+\")\")\n",
        "        print(count)\n",
        "        \n",
        "        break"
      ],
      "execution_count": 10,
      "outputs": [
        {
          "output_type": "stream",
          "text": [
            "0,5,0.0001\n",
            "(0.786,0.300)\n",
            "56\n"
          ],
          "name": "stdout"
        }
      ]
    },
    {
      "cell_type": "markdown",
      "metadata": {
        "id": "_4TFJvvzr4wo"
      },
      "source": [
        "# 2"
      ]
    },
    {
      "cell_type": "code",
      "metadata": {
        "colab": {
          "base_uri": "https://localhost:8080/",
          "height": 283
        },
        "id": "XXlRNaqqr6hM",
        "outputId": "9f0ee84a-888f-459a-cba2-97a789596f2b"
      },
      "source": [
        "def f(x):\n",
        "    return  ((0.5/(1+x**2)**(1/2)) - (1+x**2)**(1/2) * (1- (0.5/(1+x**2))) + x)\n",
        "x = 0.786\n",
        "lin = np.linspace(x-1,x+1,100)\n",
        "plt.plot(lin,f(lin))"
      ],
      "execution_count": 11,
      "outputs": [
        {
          "output_type": "execute_result",
          "data": {
            "text/plain": [
              "[<matplotlib.lines.Line2D at 0x7fd680f78310>]"
            ]
          },
          "metadata": {
            "tags": []
          },
          "execution_count": 11
        },
        {
          "output_type": "display_data",
          "data": {
            "image/png": "[encoded data removed]",
            "text/plain": [
              "<Figure size 432x288 with 1 Axes>"
            ]
          },
          "metadata": {
            "tags": [],
            "needs_background": "light"
          }
        }
      ]
    },
    {
      "cell_type": "markdown",
      "metadata": {
        "id": "HBMP1dWq1YS6"
      },
      "source": [
        "# 3\n"
      ]
    },
    {
      "cell_type": "code",
      "metadata": {
        "colab": {
          "base_uri": "https://localhost:8080/"
        },
        "id": "HarLAHoGr6mW",
        "outputId": "9ba98848-761b-4178-e9a9-268d08875d16"
      },
      "source": [
        "def f(x):\n",
        "    return (math.e**x) - (x**3)\n",
        "\n",
        "def fprima(x):\n",
        "    return (math.e**x) - (3*(x**2))\n",
        "\n",
        "def f2prima(x):\n",
        "    return (math.e**x) - (6*x)\n",
        "\n",
        "c= input()\n",
        "\n",
        "inp = c.split(',')\n",
        "count =1\n",
        "x0 = float(inp[0])\n",
        "eps = float(inp[1])\n",
        "\n",
        "k = 1\n",
        "while True:\n",
        "    x0 = x0 - (fprima(x0)/f2prima(x0))\n",
        "    k+=1\n",
        "    xk_plus = x0\n",
        "    \n",
        "    \n",
        "    if abs(fprima(xk_plus)) < eps:\n",
        "        print(\"(\"+'%.3f' % round(xk_plus,3)+\",\"+'%.3f' % round(-f(xk_plus),3)+\")\")\n",
        "        print(k)\n",
        "        \n",
        "        break\n",
        "  \n",
        "\n"
      ],
      "execution_count": 12,
      "outputs": [
        {
          "output_type": "stream",
          "text": [
            "1,0.0001\n",
            "(0.910,-1.731)\n",
            "3\n"
          ],
          "name": "stdout"
        }
      ]
    },
    {
      "cell_type": "code",
      "metadata": {
        "colab": {
          "base_uri": "https://localhost:8080/",
          "height": 283
        },
        "id": "Dp6S0Hh6r6qP",
        "outputId": "6831e81a-4dc3-44c8-d436-a8cb8280faaa"
      },
      "source": [
        "def f(x):\n",
        "    return (math.e**x) - (x**3)\n",
        "x = 0.910\n",
        "lin = np.linspace(x-1,x+1,100)\n",
        "plt.plot(lin,f(lin))"
      ],
      "execution_count": 13,
      "outputs": [
        {
          "output_type": "execute_result",
          "data": {
            "text/plain": [
              "[<matplotlib.lines.Line2D at 0x7fd67a88a390>]"
            ]
          },
          "metadata": {
            "tags": []
          },
          "execution_count": 13
        },
        {
          "output_type": "display_data",
          "data": {
            "image/png": "[encoded data removed]",
            "text/plain": [
              "<Figure size 432x288 with 1 Axes>"
            ]
          },
          "metadata": {
            "tags": [],
            "needs_background": "light"
          }
        }
      ]
    },
    {
      "cell_type": "code",
      "metadata": {
        "colab": {
          "base_uri": "https://localhost:8080/"
        },
        "id": "AFnrBe8l-ycn",
        "outputId": "9e46f223-8643-4596-9c6c-7433810fef49"
      },
      "source": [
        "def f(x):\n",
        "    return (math.e**x) - (x**3)\n",
        "\n",
        "def fprima(x):\n",
        "    return (math.e**x) - (3*(x**2))\n",
        "\n",
        "def f2prima(x):\n",
        "    return (math.e**x) - (6*x)\n",
        "\n",
        "c= input()\n",
        "\n",
        "inp = c.split(',')\n",
        "count =1\n",
        "x0 = float(inp[0])\n",
        "eps = float(inp[1])\n",
        "\n",
        "k = 1\n",
        "while True:\n",
        "    x0 = x0 - (fprima(x0)/f2prima(x0))\n",
        "    k+=1\n",
        "    xk_plus = x0\n",
        "    \n",
        "    \n",
        "    if abs(fprima(xk_plus)) < eps:\n",
        "        print(\"(\"+'%.3f' % round(xk_plus,3)+\",\"+'%.3f' % round(-f(xk_plus),3)+\")\")\n",
        "        print(k)\n",
        "        \n",
        "        break\n",
        "  \n",
        "\n"
      ],
      "execution_count": 14,
      "outputs": [
        {
          "output_type": "stream",
          "text": [
            "2.5,0.0001\n",
            "(-0.459,-0.729)\n",
            "9\n"
          ],
          "name": "stdout"
        }
      ]
    },
    {
      "cell_type": "code",
      "metadata": {
        "colab": {
          "base_uri": "https://localhost:8080/",
          "height": 283
        },
        "id": "bE_9psMZAQcQ",
        "outputId": "db357a60-6da4-4ef8-d382-a686ac6dd182"
      },
      "source": [
        "def f(x):\n",
        "    return (math.e**x) - (x**3)\n",
        "x =-0.459\n",
        "lin = np.linspace(x-1,x+1,100)\n",
        "plt.plot(lin,f(lin))"
      ],
      "execution_count": 15,
      "outputs": [
        {
          "output_type": "execute_result",
          "data": {
            "text/plain": [
              "[<matplotlib.lines.Line2D at 0x7fd67a82a0d0>]"
            ]
          },
          "metadata": {
            "tags": []
          },
          "execution_count": 15
        },
        {
          "output_type": "display_data",
          "data": {
            "image/png": "[encoded data removed]",
            "text/plain": [
              "<Figure size 432x288 with 1 Axes>"
            ]
          },
          "metadata": {
            "tags": [],
            "needs_background": "light"
          }
        }
      ]
    },
    {
      "cell_type": "code",
      "metadata": {
        "colab": {
          "base_uri": "https://localhost:8080/"
        },
        "id": "ofuCazQU_SOQ",
        "outputId": "7ac2f671-7ed6-45a7-81b7-5a24ecd7dcec"
      },
      "source": [
        "def f(x):\n",
        "    return (math.e**x) - (x**3)\n",
        "\n",
        "def fprima(x):\n",
        "    return (math.e**x) - (3*(x**2))\n",
        "\n",
        "def f2prima(x):\n",
        "    return (math.e**x) - (6*x)\n",
        "\n",
        "c= input()\n",
        "\n",
        "inp = c.split(',')\n",
        "count =1\n",
        "x0 = float(inp[0])\n",
        "eps = float(inp[1])\n",
        "\n",
        "k = 1\n",
        "while True:\n",
        "    x0 = x0 - (fprima(x0)/f2prima(x0))\n",
        "    k+=1\n",
        "    xk_plus = x0\n",
        "    \n",
        "    \n",
        "    if abs(fprima(xk_plus)) < eps:\n",
        "        print(\"(\"+'%.3f' % round(xk_plus,3)+\",\"+'%.3f' % round(-f(xk_plus),3)+\")\")\n",
        "        print(k)\n",
        "        \n",
        "        break\n",
        "  \n",
        "\n"
      ],
      "execution_count": 16,
      "outputs": [
        {
          "output_type": "stream",
          "text": [
            "3,0.0001\n",
            "(3.733,10.216)\n",
            "9\n"
          ],
          "name": "stdout"
        }
      ]
    },
    {
      "cell_type": "code",
      "metadata": {
        "colab": {
          "base_uri": "https://localhost:8080/",
          "height": 283
        },
        "id": "P6ufhnvI_XLp",
        "outputId": "f7f455fd-1fa4-421a-b071-f0cdc3ce05cf"
      },
      "source": [
        "def f(x):\n",
        "    return (math.e**x) - (x**3)\n",
        "x =3.733\n",
        "lin = np.linspace(x-1,x+1,100)\n",
        "plt.plot(lin,f(lin))"
      ],
      "execution_count": null,
      "outputs": [
        {
          "output_type": "execute_result",
          "data": {
            "text/plain": [
              "[<matplotlib.lines.Line2D at 0x7febd325aa90>]"
            ]
          },
          "metadata": {
            "tags": []
          },
          "execution_count": 100
        },
        {
          "output_type": "display_data",
          "data": {
            "image/png": "[encoded data removed]",
            "text/plain": [
              "<Figure size 432x288 with 1 Axes>"
            ]
          },
          "metadata": {
            "tags": [],
            "needs_background": "light"
          }
        }
      ]
    },
    {
      "cell_type": "markdown",
      "metadata": {
        "id": "Sf_IywXxnIWy"
      },
      "source": [
        "Newton - Raphson.<br>\n",
        "Parameters: $ x_0$= 3 $\\epsilon_1$ = 0.0001 <br>\n",
        "Parametros: $ x_0$= 3 $\\epsilon_1$ = 0.0001 <br>"
      ]
    }
  ]
}